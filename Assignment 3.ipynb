{
 "cells": [
  {
   "cell_type": "code",
   "execution_count": null,
   "id": "4dfa78f6-3df9-4dd7-8f88-ca01fee68736",
   "metadata": {},
   "outputs": [],
   "source": [
    "#if"
   ]
  },
  {
   "cell_type": "code",
   "execution_count": 4,
   "id": "3aeaf3ee-e02d-4428-84a0-1c3ac0f44fd4",
   "metadata": {},
   "outputs": [
    {
     "name": "stdout",
     "output_type": "stream",
     "text": [
      "value=10\n",
      "Correct\n"
     ]
    }
   ],
   "source": [
    "value=10\n",
    "print(\"value=10\")\n",
    "if(value==10):\n",
    "    print(\"Correct\")\n"
   ]
  },
  {
   "cell_type": "code",
   "execution_count": null,
   "id": "148032a9-bdd6-49b2-a489-e85392e55c4b",
   "metadata": {},
   "outputs": [],
   "source": [
    "#age category"
   ]
  },
  {
   "cell_type": "code",
   "execution_count": null,
   "id": "5dc6e470-64ad-4fcb-a79c-ccddd7591b1a",
   "metadata": {},
   "outputs": [],
   "source": []
  },
  {
   "cell_type": "code",
   "execution_count": 11,
   "id": "d901e83d-edd6-43b5-9e15-af390492e1a4",
   "metadata": {},
   "outputs": [
    {
     "name": "stdin",
     "output_type": "stream",
     "text": [
      "age= 20\n"
     ]
    },
    {
     "name": "stdout",
     "output_type": "stream",
     "text": [
      "Adult\n"
     ]
    }
   ],
   "source": [
    "age=int(input(\"age=\"))\n",
    "if(age<18):\n",
    "    print(\"Children\")\n",
    "elif(age<35):\n",
    "    print(\"Adult\")\n",
    "elif(age<59):\n",
    "    print(\"Citizen\")\n",
    "else:\n",
    "    print(\"Senior citizen\")\n",
    "    "
   ]
  },
  {
   "cell_type": "code",
   "execution_count": null,
   "id": "05e4b411-8393-4ca1-8440-2aab029ee201",
   "metadata": {},
   "outputs": [],
   "source": []
  },
  {
   "cell_type": "code",
   "execution_count": null,
   "id": "90295ecd-fda0-47dd-b290-bc0f701cd8e6",
   "metadata": {},
   "outputs": [],
   "source": [
    "#positive or negative"
   ]
  },
  {
   "cell_type": "code",
   "execution_count": 18,
   "id": "af056584-3891-4eb1-b350-284874f41a09",
   "metadata": {},
   "outputs": [
    {
     "name": "stdin",
     "output_type": "stream",
     "text": [
      "Enter the number= 1\n"
     ]
    },
    {
     "name": "stdout",
     "output_type": "stream",
     "text": [
      "No is positive\n"
     ]
    }
   ],
   "source": [
    "num=int(input(\"Enter the number=\"))\n",
    "if(num>=1):\n",
    "        print(\"No is positive\")\n",
    "else:\n",
    "    print(\"no is negative\")\n"
   ]
  },
  {
   "cell_type": "code",
   "execution_count": null,
   "id": "881b9062-447b-43ea-9033-02a7e7b59851",
   "metadata": {},
   "outputs": [],
   "source": [
    "#divisible by 5"
   ]
  },
  {
   "cell_type": "code",
   "execution_count": 19,
   "id": "dc89151f-63c4-46a2-9287-9f7eb2833869",
   "metadata": {},
   "outputs": [
    {
     "name": "stdin",
     "output_type": "stream",
     "text": [
      "enter a number to check: 22\n"
     ]
    },
    {
     "name": "stdout",
     "output_type": "stream",
     "text": [
      "No is not divisible by 5\n"
     ]
    }
   ],
   "source": [
    "num=int(input(\"enter a number to check:\"))\n",
    "if(num%5==0):\n",
    "    print(\"No is divisible by 5\")\n",
    "else:\n",
    "    print(\"No is not divisible by 5\")"
   ]
  },
  {
   "cell_type": "code",
   "execution_count": 7,
   "id": "664abea6-d586-40c3-a5b9-3fc57a58f649",
   "metadata": {},
   "outputs": [
    {
     "name": "stdin",
     "output_type": "stream",
     "text": [
      "Enter the password: HOPE@123\n"
     ]
    },
    {
     "name": "stdout",
     "output_type": "stream",
     "text": [
      "Your password is correct\n"
     ]
    }
   ],
   "source": [
    "crt_pword=\"HOPE\"@123\n",
    "pword=input(\"Enter the password:\")\n",
    "\n",
    "if(crt_pword==pword):\n",
    "    print(\"Your password is correct\")\n",
    "else:\n",
    "    print(\"Your password is incorrect\")"
   ]
  },
  {
   "cell_type": "code",
   "execution_count": null,
   "id": "46aa55ba-cae8-4c2b-ac63-b72bcb1cf8c4",
   "metadata": {},
   "outputs": [],
   "source": []
  }
 ],
 "metadata": {
  "kernelspec": {
   "display_name": "Python 3 (ipykernel)",
   "language": "python",
   "name": "python3"
  },
  "language_info": {
   "codemirror_mode": {
    "name": "ipython",
    "version": 3
   },
   "file_extension": ".py",
   "mimetype": "text/x-python",
   "name": "python",
   "nbconvert_exporter": "python",
   "pygments_lexer": "ipython3",
   "version": "3.12.4"
  }
 },
 "nbformat": 4,
 "nbformat_minor": 5
}
