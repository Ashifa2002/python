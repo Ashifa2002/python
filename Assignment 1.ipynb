{
 "cells": [
  {
   "cell_type": "code",
   "execution_count": 1,
   "id": "85d38f25-7fd6-4876-b3c5-f6a512549c7e",
   "metadata": {},
   "outputs": [
    {
     "name": "stdout",
     "output_type": "stream",
     "text": [
      "HOPE AI\n"
     ]
    }
   ],
   "source": [
    "print(\"HOPE AI\")\n"
   ]
  },
  {
   "cell_type": "code",
   "execution_count": 5,
   "id": "3841f3b4-a790-4d61-b39b-f270ba1bc886",
   "metadata": {},
   "outputs": [
    {
     "name": "stdin",
     "output_type": "stream",
     "text": [
      "Enter your institute name: HOPE AI\n"
     ]
    }
   ],
   "source": [
    "name=input(\"Enter your institute name:\")"
   ]
  },
  {
   "cell_type": "code",
   "execution_count": 4,
   "id": "0da1e130-b38d-4f97-ace1-00cd23f6994a",
   "metadata": {},
   "outputs": [
    {
     "name": "stdin",
     "output_type": "stream",
     "text": [
      "Enter your name: Raj\n",
      "Enter your age: 15\n",
      "Enter your school name: Guru school\n",
      "Enter your degree: B.E CSE\n"
     ]
    }
   ],
   "source": [
    "name=input(\"Enter your name:\")\n",
    "age=int(input(\"Enter your age:\"))\n",
    "scl_name=input(\"Enter your school name:\")\n",
    "deg=input(\"Enter your degree:\")"
   ]
  },
  {
   "cell_type": "code",
   "execution_count": null,
   "id": "cd23171e-822f-485a-b40c-8f90448d32a5",
   "metadata": {},
   "outputs": [],
   "source": [
    "#Addition\n"
   ]
  },
  {
   "cell_type": "code",
   "execution_count": 6,
   "id": "fa9c4d50-0baa-4a64-9acb-cea968bdebe5",
   "metadata": {},
   "outputs": [
    {
     "name": "stdout",
     "output_type": "stream",
     "text": [
      "a=43\n",
      "b=34\n",
      "Add= 77\n"
     ]
    }
   ],
   "source": [
    "a=43\n",
    "b=34\n",
    "print(\"a=43\")\n",
    "print(\"b=34\")\n",
    "add=a+b\n",
    "print(\"Add=\",add)"
   ]
  },
  {
   "cell_type": "code",
   "execution_count": null,
   "id": "ac19e730-7918-4c21-aa8b-f5e2da2ae9de",
   "metadata": {},
   "outputs": [],
   "source": [
    "#subtract"
   ]
  },
  {
   "cell_type": "code",
   "execution_count": 7,
   "id": "9b7dacfd-cc8e-473e-9554-519f9e901d2f",
   "metadata": {},
   "outputs": [
    {
     "name": "stdout",
     "output_type": "stream",
     "text": [
      "a=43\n",
      "b=34\n",
      "Sub= 9\n"
     ]
    }
   ],
   "source": [
    "a=43\n",
    "b=34\n",
    "print(\"a=43\")\n",
    "print(\"b=34\")\n",
    "sub=a-b\n",
    "print(\"Sub=\",sub)"
   ]
  },
  {
   "cell_type": "code",
   "execution_count": null,
   "id": "86c9981b-1c6c-4c4d-8e7d-8e1f19758909",
   "metadata": {},
   "outputs": [],
   "source": [
    "#multiplication"
   ]
  },
  {
   "cell_type": "code",
   "execution_count": 8,
   "id": "963e7ef7-f845-4a6b-8a6f-9d80832cf3ac",
   "metadata": {},
   "outputs": [
    {
     "name": "stdout",
     "output_type": "stream",
     "text": [
      "a=63\n",
      "b=97\n",
      "Mul= 6111\n"
     ]
    }
   ],
   "source": [
    "a=63\n",
    "b=97\n",
    "print(\"a=63\")\n",
    "print(\"b=97\")\n",
    "mul=a*b\n",
    "print(\"Mul=\",mul)"
   ]
  },
  {
   "cell_type": "code",
   "execution_count": null,
   "id": "06c73e9d-2c83-42e3-a087-5dc1f65e5392",
   "metadata": {},
   "outputs": [],
   "source": [
    "#float Division"
   ]
  },
  {
   "cell_type": "code",
   "execution_count": 9,
   "id": "b7c9e805-d754-4454-af5d-4e25ded49d76",
   "metadata": {},
   "outputs": [
    {
     "name": "stdout",
     "output_type": "stream",
     "text": [
      "a=76\n",
      "b=31\n",
      "Float div= 2.4516129032258065\n"
     ]
    }
   ],
   "source": [
    "a=76\n",
    "b=31\n",
    "print(\"a=76\")\n",
    "print(\"b=31\")\n",
    "div=a/b\n",
    "print(\"Float div=\",div)"
   ]
  },
  {
   "cell_type": "code",
   "execution_count": null,
   "id": "2771bd7b-2dff-40a2-98d9-85a9b9d4d90c",
   "metadata": {},
   "outputs": [],
   "source": [
    "#Floor division or integer div"
   ]
  },
  {
   "cell_type": "code",
   "execution_count": 1,
   "id": "3bf2cbd6-4b5c-4f4b-9e6e-3ff2e2e743e3",
   "metadata": {},
   "outputs": [
    {
     "name": "stdout",
     "output_type": "stream",
     "text": [
      "a=76\n",
      "b=31\n",
      "Floor div= 2\n"
     ]
    }
   ],
   "source": [
    "a=76\n",
    "b=31\n",
    "print(\"a=76\")\n",
    "print(\"b=31\")\n",
    "div=a//b\n",
    "print(\"Floor div=\",div)"
   ]
  },
  {
   "cell_type": "code",
   "execution_count": null,
   "id": "0b6b0548-9ec8-4650-b5ff-be8a632a3364",
   "metadata": {},
   "outputs": [],
   "source": [
    "#Modulo"
   ]
  },
  {
   "cell_type": "code",
   "execution_count": 11,
   "id": "2414efdb-9652-4d13-bad0-3949af7ece87",
   "metadata": {},
   "outputs": [
    {
     "name": "stdout",
     "output_type": "stream",
     "text": [
      "a=76\n",
      "b=31\n",
      "Modulo= 14\n"
     ]
    }
   ],
   "source": [
    "a=76\n",
    "b=31\n",
    "print(\"a=76\")\n",
    "print(\"b=31\")\n",
    "mod=a%b\n",
    "print(\"Modulo=\",mod)"
   ]
  },
  {
   "cell_type": "code",
   "execution_count": null,
   "id": "36a62d70-b00a-4f58-972b-296abdb5edaa",
   "metadata": {},
   "outputs": [],
   "source": [
    "#power"
   ]
  },
  {
   "cell_type": "code",
   "execution_count": 12,
   "id": "a06673ce-0e14-413f-83a0-2444b3b0d9ee",
   "metadata": {},
   "outputs": [
    {
     "name": "stdout",
     "output_type": "stream",
     "text": [
      "a=4\n",
      "b=4\n",
      "Power= 256\n"
     ]
    }
   ],
   "source": [
    "a=4\n",
    "b=4\n",
    "print(\"a=4\")\n",
    "print(\"b=4\")\n",
    "pow=a**b\n",
    "print(\"Power=\",pow)"
   ]
  },
  {
   "cell_type": "code",
   "execution_count": null,
   "id": "c8088ce0-1a78-4d7e-bb95-d73932fed7be",
   "metadata": {},
   "outputs": [],
   "source": []
  }
 ],
 "metadata": {
  "kernelspec": {
   "display_name": "Python 3 (ipykernel)",
   "language": "python",
   "name": "python3"
  },
  "language_info": {
   "codemirror_mode": {
    "name": "ipython",
    "version": 3
   },
   "file_extension": ".py",
   "mimetype": "text/x-python",
   "name": "python",
   "nbconvert_exporter": "python",
   "pygments_lexer": "ipython3",
   "version": "3.12.4"
  }
 },
 "nbformat": 4,
 "nbformat_minor": 5
}
