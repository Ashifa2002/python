{
 "cells": [
  {
   "cell_type": "code",
   "execution_count": 1,
   "id": "b1024067-bfdd-486c-95c4-8f105cafa856",
   "metadata": {},
   "outputs": [
    {
     "name": "stdout",
     "output_type": "stream",
     "text": [
      "Welcome to Assignment-1\n"
     ]
    }
   ],
   "source": [
    "print(\"Welcome to Assignment-1\")"
   ]
  },
  {
   "cell_type": "code",
   "execution_count": 3,
   "id": "97c4889e-452a-4c89-abc3-1ac24d06f5f2",
   "metadata": {},
   "outputs": [
    {
     "name": "stdout",
     "output_type": "stream",
     "text": [
      "Num1= 10\n",
      "Num2= 30\n",
      "Add= 40\n"
     ]
    }
   ],
   "source": [
    "num1=10\n",
    "num2=30\n",
    "add=num1+num2\n",
    "print(\"Num1=\",num1)\n",
    "print(\"Num2=\",num2)\n",
    "print(\"Add=\",add)"
   ]
  },
  {
   "cell_type": "code",
   "execution_count": null,
   "id": "d818aeb0-2c6a-4d87-8547-91032f9240d3",
   "metadata": {},
   "outputs": [],
   "source": [
    "#BMI\n"
   ]
  },
  {
   "cell_type": "code",
   "execution_count": 7,
   "id": "850068e7-0dff-44a2-b3eb-895a92294271",
   "metadata": {},
   "outputs": [
    {
     "name": "stdin",
     "output_type": "stream",
     "text": [
      "Enter the BMI Index= 34\n"
     ]
    },
    {
     "name": "stdout",
     "output_type": "stream",
     "text": [
      "Very overweight\n"
     ]
    }
   ],
   "source": [
    "bmi=int(input(\"Enter the BMI Index=\"))\n",
    "if(bmi<18.5):\n",
    "    print(\"Under Weight\")\n",
    "elif(bmi<24.9):\n",
    "    print(\"Normal Weight\")\n",
    "elif(bmi<29.9):\n",
    "    print(\"over weight\")\n",
    "else:\n",
    "    print(\"Very overweight\")\n"
   ]
  },
  {
   "cell_type": "code",
   "execution_count": null,
   "id": "77ca3271-bbc7-45a8-a131-5d5213ca3513",
   "metadata": {},
   "outputs": [],
   "source": []
  }
 ],
 "metadata": {
  "kernelspec": {
   "display_name": "Python 3 (ipykernel)",
   "language": "python",
   "name": "python3"
  },
  "language_info": {
   "codemirror_mode": {
    "name": "ipython",
    "version": 3
   },
   "file_extension": ".py",
   "mimetype": "text/x-python",
   "name": "python",
   "nbconvert_exporter": "python",
   "pygments_lexer": "ipython3",
   "version": "3.12.4"
  }
 },
 "nbformat": 4,
 "nbformat_minor": 5
}
